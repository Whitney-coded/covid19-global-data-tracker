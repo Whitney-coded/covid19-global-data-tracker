import pandas as pd
import matplotlib.pyplot as plt
import seaborn as sns

# Load dataset with error handling
try:
    df = pd.read_csv('../data/owid-covid-data.csv')
    print(df.head())
except FileNotFoundError:
    print("Dataset file not found. Please download and place it in the data folder.")

# Data exploration
print(df.columns)
print(df.info())
print(df.isnull().sum())

# Data cleaning
df = df.dropna(subset=['date', 'location'])
df['date'] = pd.to_datetime(df['date'])
df.fillna(method='ffill', inplace=True)

# Filter countries of interest
countries = ['Kenya', 'USA', 'India']
df_filtered = df[df['location'].isin(countries)]

# Basic statistics
print(df_filtered.describe())

# Grouping example: mean new cases by country
mean_new_cases = df_filtered.groupby('location')['new_cases'].mean()
print(mean_new_cases)

# Visualization examples

# 1. Line chart: total cases over time
plt.figure(figsize=(10,6))
for country in countries:
    country_data = df_filtered[df_filtered['location'] == country]
    plt.plot(country_data['date'], country_data['total_cases'], label=country)
plt.title('Total COVID-19 Cases Over Time')
plt.xlabel('Date')
plt.ylabel('Total Cases')
plt.legend()
plt.show()

# 2. Bar chart: average new cases by country
mean_new_cases.plot(kind='bar')
plt.title('Average Daily New Cases by Country')
plt.ylabel('Average New Cases')
plt.show()

# 3. Histogram: distribution of new deaths
plt.hist(df_filtered['new_deaths'].dropna(), bins=30)
plt.title('Distribution of Daily New Deaths')
plt.xlabel('New Deaths')
plt.ylabel('Frequency')
plt.show()

# 4. Scatter plot: total cases vs total vaccinations
sns.scatterplot(data=df_filtered, x='total_cases', y='total_vaccinations', hue='location')
plt.title('Total Cases vs Total Vaccinations')
plt.xlabel('Total Cases')
plt.ylabel('Total Vaccinations')
plt.show()

# Optional: Choropleth map (requires plotly)
# import plotly.express as px
# latest = df[df['date'] == df['date'].max()]
# fig = px.choropleth(latest, locations='iso_code', color='total_cases',
#                     hover_name='location', color_continuous_scale='Viridis',
#                     title='Global COVID-19 Total Cases')
# fig.show()
